{
 "cells": [
  {
   "cell_type": "markdown",
   "id": "c1ac4b71",
   "metadata": {},
   "source": [
    "# This is my notebook on Chapter 6 from Wooldridge\n",
    "### I did 4 computer exercises"
   ]
  },
  {
   "cell_type": "code",
   "execution_count": 46,
   "id": "1247f6e9",
   "metadata": {},
   "outputs": [],
   "source": [
    "import wooldridge\n",
    "import statsmodels.formula.api as smf\n",
    "import statsmodels.api as sm\n",
    "import numpy as np\n",
    "import pandas as pd\n",
    "from scipy import stats\n",
    "import plotly.express as px\n",
    "from IPython.display import display, Latex\n",
    "\n",
    "import warnings\n",
    "warnings.filterwarnings('ignore')"
   ]
  },
  {
   "cell_type": "markdown",
   "id": "ef0c3447",
   "metadata": {},
   "source": [
    "# Task 1"
   ]
  },
  {
   "cell_type": "code",
   "execution_count": 6,
   "id": "666582ea",
   "metadata": {},
   "outputs": [
    {
     "data": {
      "text/plain": [
       "(142, 25)"
      ]
     },
     "execution_count": 6,
     "metadata": {},
     "output_type": "execute_result"
    }
   ],
   "source": [
    "data = wooldridge.data('KIELMC')\n",
    "data = data[data.year == 1981]\n",
    "data.shape"
   ]
  },
  {
   "cell_type": "code",
   "execution_count": 17,
   "id": "7f7d692b",
   "metadata": {},
   "outputs": [
    {
     "data": {
      "text/plain": [
       "(0.18025880137091477,\n",
       " Intercept       1.997514e-24\n",
       " np.log(dist)    1.394998e-07\n",
       " dtype: float64)"
      ]
     },
     "execution_count": 17,
     "metadata": {},
     "output_type": "execute_result"
    }
   ],
   "source": [
    "model = smf.ols(data=data, formula='np.log(price) ~ np.log(dist)')\n",
    "fitted = model.fit()\n",
    "fitted.rsquared, fitted.pvalues[fitted.pvalues < 0.05]"
   ]
  },
  {
   "cell_type": "code",
   "execution_count": 21,
   "id": "0f35c823",
   "metadata": {},
   "outputs": [
    {
     "data": {
      "text/plain": [
       "(0.7475421851715305,\n",
       " np.log(dist)     0.338153\n",
       " np.log(intst)    0.451261\n",
       " np.log(land)     0.053908\n",
       " rooms            0.134588\n",
       " dtype: float64)"
      ]
     },
     "execution_count": 21,
     "metadata": {},
     "output_type": "execute_result"
    }
   ],
   "source": [
    "model = smf.ols(data=data, formula='np.log(price) ~ np.log(dist) + np.log(intst)+\\\n",
    "np.log(area) + np.log(land) + rooms + baths + age')\n",
    "fitted = model.fit()\n",
    "fitted.rsquared, fitted.pvalues[fitted.pvalues > 0.05]"
   ]
  },
  {
   "cell_type": "code",
   "execution_count": 23,
   "id": "e49291c8",
   "metadata": {},
   "outputs": [
    {
     "data": {
      "text/plain": [
       "(0.7775494537560258,\n",
       " Intercept    0.212022\n",
       " rooms        0.154933\n",
       " dtype: float64)"
      ]
     },
     "execution_count": 23,
     "metadata": {},
     "output_type": "execute_result"
    }
   ],
   "source": [
    "model = smf.ols(data=data, formula='np.log(price) ~ np.log(dist) + np.log(intst)+\\\n",
    "np.log(area) + np.log(land) + rooms + baths + age + np.square(np.log(intst))')\n",
    "fitted = model.fit()\n",
    "fitted.rsquared, fitted.pvalues[fitted.pvalues > 0.05]"
   ]
  },
  {
   "cell_type": "markdown",
   "id": "31f1cef2",
   "metadata": {},
   "source": [
    "### As we can see, adding square component to the model is crucial. Adding $log(intst)^2$ really made $log(dist), log(intst), log(land)$ significant."
   ]
  },
  {
   "cell_type": "markdown",
   "id": "d7ba358a",
   "metadata": {},
   "source": [
    "# Task 2"
   ]
  },
  {
   "cell_type": "code",
   "execution_count": 24,
   "id": "f80105fe",
   "metadata": {},
   "outputs": [
    {
     "data": {
      "text/html": [
       "<div>\n",
       "<style scoped>\n",
       "    .dataframe tbody tr th:only-of-type {\n",
       "        vertical-align: middle;\n",
       "    }\n",
       "\n",
       "    .dataframe tbody tr th {\n",
       "        vertical-align: top;\n",
       "    }\n",
       "\n",
       "    .dataframe thead th {\n",
       "        text-align: right;\n",
       "    }\n",
       "</style>\n",
       "<table border=\"1\" class=\"dataframe\">\n",
       "  <thead>\n",
       "    <tr style=\"text-align: right;\">\n",
       "      <th></th>\n",
       "      <th>wage</th>\n",
       "      <th>educ</th>\n",
       "      <th>exper</th>\n",
       "      <th>tenure</th>\n",
       "      <th>nonwhite</th>\n",
       "      <th>female</th>\n",
       "      <th>married</th>\n",
       "      <th>numdep</th>\n",
       "      <th>smsa</th>\n",
       "      <th>northcen</th>\n",
       "      <th>...</th>\n",
       "      <th>trcommpu</th>\n",
       "      <th>trade</th>\n",
       "      <th>services</th>\n",
       "      <th>profserv</th>\n",
       "      <th>profocc</th>\n",
       "      <th>clerocc</th>\n",
       "      <th>servocc</th>\n",
       "      <th>lwage</th>\n",
       "      <th>expersq</th>\n",
       "      <th>tenursq</th>\n",
       "    </tr>\n",
       "  </thead>\n",
       "  <tbody>\n",
       "    <tr>\n",
       "      <th>0</th>\n",
       "      <td>3.1</td>\n",
       "      <td>11</td>\n",
       "      <td>2</td>\n",
       "      <td>0</td>\n",
       "      <td>0</td>\n",
       "      <td>1</td>\n",
       "      <td>0</td>\n",
       "      <td>2</td>\n",
       "      <td>1</td>\n",
       "      <td>0</td>\n",
       "      <td>...</td>\n",
       "      <td>0</td>\n",
       "      <td>0</td>\n",
       "      <td>0</td>\n",
       "      <td>0</td>\n",
       "      <td>0</td>\n",
       "      <td>0</td>\n",
       "      <td>0</td>\n",
       "      <td>1.131402</td>\n",
       "      <td>4</td>\n",
       "      <td>0</td>\n",
       "    </tr>\n",
       "  </tbody>\n",
       "</table>\n",
       "<p>1 rows × 24 columns</p>\n",
       "</div>"
      ],
      "text/plain": [
       "   wage  educ  exper  tenure  nonwhite  female  married  numdep  smsa  \\\n",
       "0   3.1    11      2       0         0       1        0       2     1   \n",
       "\n",
       "   northcen  ...  trcommpu  trade  services  profserv  profocc  clerocc  \\\n",
       "0         0  ...         0      0         0         0        0        0   \n",
       "\n",
       "   servocc     lwage  expersq  tenursq  \n",
       "0        0  1.131402        4        0  \n",
       "\n",
       "[1 rows x 24 columns]"
      ]
     },
     "execution_count": 24,
     "metadata": {},
     "output_type": "execute_result"
    }
   ],
   "source": [
    "data = wooldridge.data('WAGE1')\n",
    "data.head(1)"
   ]
  },
  {
   "cell_type": "code",
   "execution_count": 68,
   "id": "94495879",
   "metadata": {},
   "outputs": [],
   "source": [
    "model = smf.ols(data=data, formula='np.log(wage) ~ educ + exper + np.square(exper)')\n",
    "fitted = model.fit()"
   ]
  },
  {
   "cell_type": "markdown",
   "id": "0ce9a5a3",
   "metadata": {},
   "source": [
    "### $$log(wage) = \\beta_0 + \\beta_1 \\cdot educ + \\beta_2 \\cdot exper + \\beta_3 \\cdot exper^2 + u$$\n",
    "$$\\frac{d}{d exper}y = (\\beta_2 + 2\\cdot \\beta_3 \\cdot exper).$$"
   ]
  },
  {
   "cell_type": "code",
   "execution_count": 43,
   "id": "92283fa1",
   "metadata": {},
   "outputs": [
    {
     "data": {
      "text/plain": [
       "'Estimated return to the fifth year of experience is 3.53%'"
      ]
     },
     "execution_count": 43,
     "metadata": {},
     "output_type": "execute_result"
    }
   ],
   "source": [
    "b0, b1, b2, b3 = fitted.params\n",
    "f'Estimated return to the fifth year of experience is \\\n",
    "{round(100 * (b2 + 2 * b3 * 4) * 1, 2)}%'"
   ]
  },
  {
   "cell_type": "code",
   "execution_count": 44,
   "id": "3f856eba",
   "metadata": {},
   "outputs": [
    {
     "data": {
      "text/plain": [
       "'Estimated return to the fifth year of experience is 1.39%'"
      ]
     },
     "execution_count": 44,
     "metadata": {},
     "output_type": "execute_result"
    }
   ],
   "source": [
    "f'Estimated return to the fifth year of experience is \\\n",
    "{round(100 * (b2 + 2* b3 * 19) * 1, 2)}%'"
   ]
  },
  {
   "cell_type": "code",
   "execution_count": 57,
   "id": "b6f34e1b",
   "metadata": {},
   "outputs": [
    {
     "data": {
      "text/plain": [
       "'Parabola (of exper) vertex is at point: -b / 2a. In our case it is 28.74'"
      ]
     },
     "execution_count": 57,
     "metadata": {},
     "output_type": "execute_result"
    }
   ],
   "source": [
    "parabola_vertex = round(-b2 / (2 * b3), 2)\n",
    "f'Parabola (of exper) vertex is at point: -b / 2a. In our case it is {parabola_vertex}'"
   ]
  },
  {
   "cell_type": "markdown",
   "id": "128ae200",
   "metadata": {},
   "source": [
    "Let's check how many cases are in the sample with exper > 28.75"
   ]
  },
  {
   "cell_type": "code",
   "execution_count": 67,
   "id": "9f60dfde",
   "metadata": {},
   "outputs": [
    {
     "data": {
      "text/plain": [
       "'There are 23% of cases with exper > bound. It\"s too much.'"
      ]
     },
     "execution_count": 67,
     "metadata": {},
     "output_type": "execute_result"
    }
   ],
   "source": [
    "high_exper = round(100 * len(data[data['exper'] > parabola_vertex]) / len(data))\n",
    "f'There are {high_exper}% of cases with exper > bound. It\"s too much.'"
   ]
  },
  {
   "cell_type": "markdown",
   "id": "6f919cf6",
   "metadata": {},
   "source": [
    "## Task 3"
   ]
  },
  {
   "cell_type": "code",
   "execution_count": 74,
   "id": "d509934e",
   "metadata": {},
   "outputs": [
    {
     "data": {
      "text/html": [
       "<table class=\"simpletable\">\n",
       "<caption>OLS Regression Results</caption>\n",
       "<tr>\n",
       "  <th>Dep. Variable:</th>      <td>np.log(wage)</td>   <th>  R-squared:         </th> <td>   0.250</td>\n",
       "</tr>\n",
       "<tr>\n",
       "  <th>Model:</th>                   <td>OLS</td>       <th>  Adj. R-squared:    </th> <td>   0.245</td>\n",
       "</tr>\n",
       "<tr>\n",
       "  <th>Method:</th>             <td>Least Squares</td>  <th>  F-statistic:       </th> <td>   57.91</td>\n",
       "</tr>\n",
       "<tr>\n",
       "  <th>Date:</th>             <td>Sat, 07 May 2022</td> <th>  Prob (F-statistic):</th> <td>2.50e-32</td>\n",
       "</tr>\n",
       "<tr>\n",
       "  <th>Time:</th>                 <td>10:03:42</td>     <th>  Log-Likelihood:    </th> <td> -337.88</td>\n",
       "</tr>\n",
       "<tr>\n",
       "  <th>No. Observations:</th>      <td>   526</td>      <th>  AIC:               </th> <td>   683.8</td>\n",
       "</tr>\n",
       "<tr>\n",
       "  <th>Df Residuals:</th>          <td>   522</td>      <th>  BIC:               </th> <td>   700.8</td>\n",
       "</tr>\n",
       "<tr>\n",
       "  <th>Df Model:</th>              <td>     3</td>      <th>                     </th>     <td> </td>   \n",
       "</tr>\n",
       "<tr>\n",
       "  <th>Covariance Type:</th>      <td>nonrobust</td>    <th>                     </th>     <td> </td>   \n",
       "</tr>\n",
       "</table>\n",
       "<table class=\"simpletable\">\n",
       "<tr>\n",
       "       <td></td>         <th>coef</th>     <th>std err</th>      <th>t</th>      <th>P>|t|</th>  <th>[0.025</th>    <th>0.975]</th>  \n",
       "</tr>\n",
       "<tr>\n",
       "  <th>Intercept</th>  <td>    0.1532</td> <td>    0.167</td> <td>    0.916</td> <td> 0.360</td> <td>   -0.176</td> <td>    0.482</td>\n",
       "</tr>\n",
       "<tr>\n",
       "  <th>educ</th>       <td>    0.1030</td> <td>    0.013</td> <td>    8.090</td> <td> 0.000</td> <td>    0.078</td> <td>    0.128</td>\n",
       "</tr>\n",
       "<tr>\n",
       "  <th>exper</th>      <td>    0.0133</td> <td>    0.006</td> <td>    2.197</td> <td> 0.028</td> <td>    0.001</td> <td>    0.025</td>\n",
       "</tr>\n",
       "<tr>\n",
       "  <th>educ:exper</th> <td>   -0.0002</td> <td>    0.000</td> <td>   -0.500</td> <td> 0.617</td> <td>   -0.001</td> <td>    0.001</td>\n",
       "</tr>\n",
       "</table>\n",
       "<table class=\"simpletable\">\n",
       "<tr>\n",
       "  <th>Omnibus:</th>       <td> 8.116</td> <th>  Durbin-Watson:     </th> <td>   1.790</td>\n",
       "</tr>\n",
       "<tr>\n",
       "  <th>Prob(Omnibus):</th> <td> 0.017</td> <th>  Jarque-Bera (JB):  </th> <td>   9.941</td>\n",
       "</tr>\n",
       "<tr>\n",
       "  <th>Skew:</th>          <td> 0.174</td> <th>  Prob(JB):          </th> <td> 0.00694</td>\n",
       "</tr>\n",
       "<tr>\n",
       "  <th>Kurtosis:</th>      <td> 3.576</td> <th>  Cond. No.          </th> <td>2.15e+03</td>\n",
       "</tr>\n",
       "</table><br/><br/>Notes:<br/>[1] Standard Errors assume that the covariance matrix of the errors is correctly specified.<br/>[2] The condition number is large, 2.15e+03. This might indicate that there are<br/>strong multicollinearity or other numerical problems."
      ],
      "text/plain": [
       "<class 'statsmodels.iolib.summary.Summary'>\n",
       "\"\"\"\n",
       "                            OLS Regression Results                            \n",
       "==============================================================================\n",
       "Dep. Variable:           np.log(wage)   R-squared:                       0.250\n",
       "Model:                            OLS   Adj. R-squared:                  0.245\n",
       "Method:                 Least Squares   F-statistic:                     57.91\n",
       "Date:                Sat, 07 May 2022   Prob (F-statistic):           2.50e-32\n",
       "Time:                        10:03:42   Log-Likelihood:                -337.88\n",
       "No. Observations:                 526   AIC:                             683.8\n",
       "Df Residuals:                     522   BIC:                             700.8\n",
       "Df Model:                           3                                         \n",
       "Covariance Type:            nonrobust                                         \n",
       "==============================================================================\n",
       "                 coef    std err          t      P>|t|      [0.025      0.975]\n",
       "------------------------------------------------------------------------------\n",
       "Intercept      0.1532      0.167      0.916      0.360      -0.176       0.482\n",
       "educ           0.1030      0.013      8.090      0.000       0.078       0.128\n",
       "exper          0.0133      0.006      2.197      0.028       0.001       0.025\n",
       "educ:exper    -0.0002      0.000     -0.500      0.617      -0.001       0.001\n",
       "==============================================================================\n",
       "Omnibus:                        8.116   Durbin-Watson:                   1.790\n",
       "Prob(Omnibus):                  0.017   Jarque-Bera (JB):                9.941\n",
       "Skew:                           0.174   Prob(JB):                      0.00694\n",
       "Kurtosis:                       3.576   Cond. No.                     2.15e+03\n",
       "==============================================================================\n",
       "\n",
       "Notes:\n",
       "[1] Standard Errors assume that the covariance matrix of the errors is correctly specified.\n",
       "[2] The condition number is large, 2.15e+03. This might indicate that there are\n",
       "strong multicollinearity or other numerical problems.\n",
       "\"\"\""
      ]
     },
     "execution_count": 74,
     "metadata": {},
     "output_type": "execute_result"
    }
   ],
   "source": [
    "model = smf.ols(data=data, formula='np.log(wage) ~ educ*exper')\n",
    "fitted = model.fit()\n",
    "fitted.summary()"
   ]
  },
  {
   "cell_type": "markdown",
   "id": "335d3991",
   "metadata": {},
   "source": [
    "### Model: $$log(wage) = \\beta_0 + \\beta_1 \\cdot educ + \\beta_2 \\cdot exper + \\beta_3 \\cdot educ\\cdot exper + u$$\n",
    "### We use the fact that: $$\\frac{d}{d educ}y = (\\beta_1 + \\beta_3 \\cdot exper).$$"
   ]
  },
  {
   "cell_type": "code",
   "execution_count": null,
   "id": "01205a53",
   "metadata": {},
   "outputs": [],
   "source": []
  }
 ],
 "metadata": {
  "kernelspec": {
   "display_name": "Python 3 (ipykernel)",
   "language": "python",
   "name": "python3"
  },
  "language_info": {
   "codemirror_mode": {
    "name": "ipython",
    "version": 3
   },
   "file_extension": ".py",
   "mimetype": "text/x-python",
   "name": "python",
   "nbconvert_exporter": "python",
   "pygments_lexer": "ipython3",
   "version": "3.9.5"
  }
 },
 "nbformat": 4,
 "nbformat_minor": 5
}
